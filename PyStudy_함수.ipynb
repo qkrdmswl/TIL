{
 "cells": [
  {
   "cell_type": "markdown",
   "metadata": {},
   "source": [
    "# 3주차 함수\n",
    "# 함수 고급 \n",
    "+ 튜플\n",
    "+ 람다\n",
    "+ with 구문"
   ]
  },
  {
   "cell_type": "markdown",
   "metadata": {},
   "source": [
    "## 튜플과 함수\n",
    "+ 튜플은 함수의 리턴에 많이 사용함. 함수의 리턴에 튜플을 사용하면 여러 개의 값을 리턴하고 할당할 수 있기 때문이다."
   ]
  },
  {
   "cell_type": "code",
   "execution_count": 3,
   "metadata": {},
   "outputs": [
    {
     "data": {
      "text/plain": [
       "(10, 20)"
      ]
     },
     "execution_count": 3,
     "metadata": {},
     "output_type": "execute_result"
    }
   ],
   "source": [
    "def test():\n",
    "    return (10,20)\n",
    "\n",
    "test()"
   ]
  },
  {
   "cell_type": "markdown",
   "metadata": {},
   "source": [
    "+ 튜플도 리스트처럼 +와 * 연산자 사용 가능. 하지만 리스트와 큰 차이가 없어 튜플을 사용하는 경우는 드물다."
   ]
  },
  {
   "cell_type": "markdown",
   "metadata": {},
   "source": [
    "### *튜플을 리턴하는함수의 예"
   ]
  },
  {
   "cell_type": "code",
   "execution_count": 6,
   "metadata": {},
   "outputs": [
    {
     "name": "stdout",
     "output_type": "stream",
     "text": [
      "0번째 요소는 1입니다.\n",
      "1번째 요소는 2입니다.\n",
      "2번째 요소는 3입니다.\n",
      "3번째 요소는 4입니다.\n",
      "4번째 요소는 5입니다.\n",
      "5번째 요소는 6입니다.\n"
     ]
    }
   ],
   "source": [
    "for i, value in enumerate([1,2,3,4,5,6]):       # i,value는 (i, value) 에서 괄호를 제거한 튜플임\n",
    "    print(\"{}번째 요소는 {}입니다.\".format(i, value))"
   ]
  },
  {
   "cell_type": "markdown",
   "metadata": {},
   "source": [
    "### *참고 4장 enumerate() 함수와 items() 함수"
   ]
  },
  {
   "cell_type": "markdown",
   "metadata": {},
   "source": [
    "## 람다 lambda\n",
    "+ 요즘 추세에서는 함수라는 기능을 매개변수로 전달하는 코드를 많이 사용함. 람다는 이런 코드를 조금 더 효율적으로 작성할 수 있도록 파이썬이 제공하는 함수이다."
   ]
  },
  {
   "cell_type": "code",
   "execution_count": 8,
   "metadata": {},
   "outputs": [
    {
     "name": "stdout",
     "output_type": "stream",
     "text": [
      "안녕하세요\n",
      "안녕하세요\n",
      "안녕하세요\n",
      "안녕하세요\n",
      "안녕하세요\n",
      "안녕하세요\n",
      "안녕하세요\n",
      "안녕하세요\n",
      "안녕하세요\n",
      "안녕하세요\n"
     ]
    }
   ],
   "source": [
    "# 함수의 매개 변수로 함수 전달하기\n",
    "\n",
    "# 매개변수로 받은 함수를 10번 호출하는 함수\n",
    "def call_10_times(func):\n",
    "    for i in range(10):\n",
    "        func()\n",
    "        \n",
    "# 간단한 출력하는 함수\n",
    "def print_hello():\n",
    "    print(\"안녕하세요\")\n",
    "    \n",
    "# 조합하기\n",
    "call_10_times(print_hello)"
   ]
  },
  {
   "cell_type": "markdown",
   "metadata": {},
   "source": [
    "\n",
    "### *filter() 함수와 map() 함수\n",
    "+ 함수를 매개변수로 전달하는 대표적인 표준 함수로 map()함수와 filter() 함수가 있다."
   ]
  },
  {
   "cell_type": "markdown",
   "metadata": {},
   "source": [
    "### *map() \n",
    "+ map() 함수는 리스트의 요소를 함수에 넣고 리턴된 값으로 새로운 리스트를 구성해 주는 함수이다.\n",
    "+ map(함수, 리스트)"
   ]
  },
  {
   "cell_type": "markdown",
   "metadata": {},
   "source": [
    "### *filter()\n",
    "+ filter() 함수는 리스트의 요소를 함수에 넣고 리턴된 값이 True인 것으로, 새로운 리스트를 구성해 주는 함수이다. \n",
    "+ filter(함수, 리스트)"
   ]
  },
  {
   "cell_type": "markdown",
   "metadata": {},
   "source": [
    "\n",
    "### *map()함수와 filter()함수 예제"
   ]
  },
  {
   "cell_type": "code",
   "execution_count": 10,
   "metadata": {},
   "outputs": [
    {
     "name": "stdout",
     "output_type": "stream",
     "text": [
      "# map() 함수의 실행결과\n",
      "map(power, list_input_a): <map object at 0x000001D5B64B0D08>\n",
      "map(power, list_input_a): [1, 4, 9, 16, 25]\n",
      "\n",
      "# filter() 함수의 실행결과\n",
      "filter(under_3, output_b): <filter object at 0x000001D5B64B0FC8>\n",
      "filter(under_3, output_b): [1, 2]\n"
     ]
    }
   ],
   "source": [
    "# 함수 선언\n",
    "def power(item):\n",
    "    return item * item\n",
    "def under_3(item):\n",
    "    return item < 3\n",
    "\n",
    "# 변수 선언\n",
    "list_input_a = [1, 2, 3, 4, 5]\n",
    "\n",
    "# map() 함수 사용\n",
    "output_a = map(power, list_input_a)\n",
    "print(\"# map() 함수의 실행결과\")\n",
    "print(\"map(power, list_input_a):\", output_a)\n",
    "print(\"map(power, list_input_a):\", list(output_a))\n",
    "print()\n",
    "\n",
    "# filter() 함수 사용\n",
    "output_b = filter(under_3, list_input_a)\n",
    "print(\"# filter() 함수의 실행결과\")\n",
    "print(\"filter(under_3, output_b):\", output_b)\n",
    "print(\"filter(under_3, output_b):\", list(output_b))"
   ]
  },
  {
   "cell_type": "markdown",
   "metadata": {},
   "source": [
    "\n",
    "+ <map object at ~~ >  와  <filter object at ~~ > 는 제너레이터(generator)라고 한다.따라서 가시적 출력을 위해 위에 list(output_a)와 list(output_b)를 사용하여 리스트로 강제 변환해준 것이다."
   ]
  },
  {
   "cell_type": "markdown",
   "metadata": {},
   "source": [
    "### *제너레이터 generator\n",
    "+ next(), yield\n",
    "+ 제너레이터는 파이썬의 특수한 문법 구조이다. 제너레이터는 이터레이터를 직접 만들때 사용하는 코드이다. 함수 내부에 yield 키워드를 사용하면 해당 함수는 제너레이터 함수가 되며, 일반 함수와는 달리 함수를 호출해도 함수 내부의 코드가 실행되지 않음"
   ]
  },
  {
   "cell_type": "code",
   "execution_count": 18,
   "metadata": {},
   "outputs": [
    {
     "name": "stdout",
     "output_type": "stream",
     "text": [
      "A 지점 통과\n",
      "B 지점 통과\n",
      "<generator object test at 0x000001D5B65EA3C8>\n"
     ]
    }
   ],
   "source": [
    "# 함수 선언\n",
    "def test():\n",
    "    print(\"함수가 호출되었습니다.\")\n",
    "    yield \"test\"\n",
    "    \n",
    "# 함수 호출\n",
    "print(\"A 지점 통과\")\n",
    "test()\n",
    "\n",
    "print(\"B 지점 통과\")\n",
    "test()\n",
    "print(test())"
   ]
  },
  {
   "cell_type": "markdown",
   "metadata": {},
   "source": [
    "+ \"함수가 호출되었습니다.\" 라는 문자열이 출력되어야 하지만, 출력되지 않음. 즉, 제너레이터 함수는 제너레이터를 리턴함, 출력된 <generator ... > 는 제너레이터 객체이다.\n",
    "+ 제너레이터 객체는 next() 함수를 사용해 함수 내부의 코드를 실행한다. 이때 yield 키워드 부분까지만 실행하며, next() 함수의 리턴값으로 yield 키워드 뒤에 입력한 값이 출력된다."
   ]
  },
  {
   "cell_type": "markdown",
   "metadata": {},
   "source": [
    "### *제너레이터 객체와 next() 함수"
   ]
  },
  {
   "cell_type": "code",
   "execution_count": 20,
   "metadata": {},
   "outputs": [
    {
     "name": "stdout",
     "output_type": "stream",
     "text": [
      "D 지점 통과\n",
      "A 지점 통과\n",
      "1\n",
      "E 지점 통과\n",
      "B 지점 통과\n",
      "2\n",
      "C 지점 통과\n"
     ]
    },
    {
     "ename": "StopIteration",
     "evalue": "",
     "output_type": "error",
     "traceback": [
      "\u001b[1;31m---------------------------------------------------------------------------\u001b[0m",
      "\u001b[1;31mStopIteration\u001b[0m                             Traceback (most recent call last)",
      "\u001b[1;32m<ipython-input-20-a7a9ab220c1a>\u001b[0m in \u001b[0;36m<module>\u001b[1;34m\u001b[0m\n\u001b[0;32m     21\u001b[0m \u001b[1;33m\u001b[0m\u001b[0m\n\u001b[0;32m     22\u001b[0m \u001b[1;31m# 한 번 더 실행\u001b[0m\u001b[1;33m\u001b[0m\u001b[1;33m\u001b[0m\u001b[1;33m\u001b[0m\u001b[0m\n\u001b[1;32m---> 23\u001b[1;33m \u001b[0mnext\u001b[0m\u001b[1;33m(\u001b[0m\u001b[0moutput\u001b[0m\u001b[1;33m)\u001b[0m\u001b[1;33m\u001b[0m\u001b[1;33m\u001b[0m\u001b[0m\n\u001b[0m",
      "\u001b[1;31mStopIteration\u001b[0m: "
     ]
    }
   ],
   "source": [
    "# 함수 선언\n",
    "def test():\n",
    "    print(\"A 지점 통과\")\n",
    "    yield 1\n",
    "    print(\"B 지점 통과\")\n",
    "    yield 2\n",
    "    print(\"C 지점 통과\")\n",
    "    \n",
    "\n",
    "# 함수 호출\n",
    "output = test()\n",
    "\n",
    "# next() 함수를 호출\n",
    "print(\"D 지점 통과\")\n",
    "a = next(output)\n",
    "print(a)\n",
    "\n",
    "print(\"E 지점 통과\")\n",
    "b = next(output)\n",
    "print(b)\n",
    "\n",
    "# 한 번 더 실행\n",
    "next(output)"
   ]
  },
  {
   "cell_type": "markdown",
   "metadata": {},
   "source": [
    "#### => next() 함수를 호출한 이후 yield 키워드를 만나지 못하고 함수가 끝나면 Stoplteration 예외 발생"
   ]
  },
  {
   "cell_type": "markdown",
   "metadata": {},
   "source": [
    "## 람다의 개념\n",
    "+ 람다 : 간단한 함수를 쉽게 선언하는 방법\n",
    "\n",
    "+ 위와 같은 map과 filter 함수는 매개변수로 함수를 전달하는 대표적인 함수지만, 매개변수로 함수를 전달하기 위해 함수 구문을 작성하는 것도 번거롭고, 코드 공간 낭비라는 단점이 있기 때문에, 람다 라는 개념이 탄생하게 되었다."
   ]
  },
  {
   "cell_type": "markdown",
   "metadata": {},
   "source": [
    "+ lambda 매개변수: 리턴값"
   ]
  },
  {
   "cell_type": "markdown",
   "metadata": {},
   "source": [
    "### *위의 map()과 filter() 예제를 lambda 사용식으로 바꿔보기"
   ]
  },
  {
   "cell_type": "code",
   "execution_count": 12,
   "metadata": {},
   "outputs": [
    {
     "name": "stdout",
     "output_type": "stream",
     "text": [
      "# map() 함수의 실행결과\n",
      "map(power, list_input_a): <map object at 0x000001D5B65D63C8>\n",
      "map(power, list_input_a): [1, 4, 9, 16, 25]\n",
      "\n",
      "# filter() 함수의 실행결과\n",
      "filter(under_3, output_b): <filter object at 0x000001D5B65D6408>\n",
      "filter(under_3, output_b): [1, 2]\n"
     ]
    }
   ],
   "source": [
    "# 함수 선언 (lambda로 만들기)\n",
    "power = lambda x: x * x\n",
    "under_3 = lambda x: x < 3\n",
    "\n",
    "# 변수 선언\n",
    "list_input_a = [1, 2, 3, 4, 5]\n",
    "\n",
    "# map() 함수 사용\n",
    "output_a = map(power, list_input_a)\n",
    "print(\"# map() 함수의 실행결과\")\n",
    "print(\"map(power, list_input_a):\", output_a)\n",
    "print(\"map(power, list_input_a):\", list(output_a))\n",
    "print()\n",
    "\n",
    "# filter() 함수 사용\n",
    "output_b = filter(under_3, list_input_a)\n",
    "print(\"# filter() 함수의 실행결과\")\n",
    "print(\"filter(under_3, output_b):\", output_b)\n",
    "print(\"filter(under_3, output_b):\", list(output_b))"
   ]
  },
  {
   "cell_type": "markdown",
   "metadata": {},
   "source": [
    "### *lambda를 사용하는 이유 : 함수의 매개변수에 곧바로 넣을 수 있음"
   ]
  },
  {
   "cell_type": "code",
   "execution_count": 16,
   "metadata": {},
   "outputs": [
    {
     "name": "stdout",
     "output_type": "stream",
     "text": [
      "# map() 함수의 실행결과\n",
      "map(power, list_input_a): <filter object at 0x000001D5B65E2388>\n",
      "map(power, list_input_a): [1, 4, 9, 16, 25]\n",
      "\n",
      "# filter() 함수의 실행결과\n",
      "filter(under_3, output_b): <filter object at 0x000001D5B65E22C8>\n",
      "filter(under_3, output_b): [1, 2]\n"
     ]
    }
   ],
   "source": [
    "# 함수 선언 부분 생략 (매개변수에 곧바로 작성됨)\n",
    "# 변수 선언 \n",
    "list_input_a = [1, 2, 3, 4, 5]\n",
    "\n",
    "# map() 함수 사용\n",
    "output_a = map(lambda x: x * x, list_input_a)\n",
    "print(\"# map() 함수의 실행결과\")\n",
    "print(\"map(power, list_input_a):\", output_b)\n",
    "print(\"map(power, list_input_a):\", list(output_a))\n",
    "print()\n",
    "\n",
    "# filter() 함수 사용\n",
    "output_b = filter(lambda x: x < 3, list_input_a)\n",
    "print(\"# filter() 함수의 실행결과\")\n",
    "print(\"filter(under_3, output_b):\", output_b)\n",
    "print(\"filter(under_3, output_b):\", list(output_b))"
   ]
  },
  {
   "cell_type": "markdown",
   "metadata": {},
   "source": [
    "### *매개변수가 여러개인 람다\n",
    "+ lambda x, y: x * y"
   ]
  },
  {
   "cell_type": "markdown",
   "metadata": {},
   "source": [
    "## !확인 문제"
   ]
  },
  {
   "cell_type": "markdown",
   "metadata": {},
   "source": [
    "### 1번) 다음은 많은 사람들이 파이썬으로 프로그램을 개발하다가 막히는 대표적인 코드이다. 빈칸을 채워서 실행결과처럼 출력되도록 만들기"
   ]
  },
  {
   "cell_type": "code",
   "execution_count": 23,
   "metadata": {},
   "outputs": [],
   "source": [
    "# numbers = [1, 2, 3, 4, 5]\n",
    "\n",
    "# print(\"::\".join())    "
   ]
  },
  {
   "cell_type": "markdown",
   "metadata": {},
   "source": [
    "#### => 기대값 : 1::2::3::4::5"
   ]
  },
  {
   "cell_type": "code",
   "execution_count": 25,
   "metadata": {},
   "outputs": [
    {
     "name": "stdout",
     "output_type": "stream",
     "text": [
      "1::2::3::4::5\n"
     ]
    }
   ],
   "source": [
    "numbers = [1, 2, 3, 4, 5]\n",
    "print(\"::\".join(map(str, numbers)))"
   ]
  },
  {
   "cell_type": "markdown",
   "metadata": {},
   "source": [
    "### 2번) 다음 코드의 빈칸을 채워서 실행결과처럼 결과가 나오게 해주세요."
   ]
  },
  {
   "cell_type": "markdown",
   "metadata": {},
   "source": [
    "#### => 실행결과\n",
    "\n",
    "#### # 홀수만 추출하기\n",
    "#### [1, 3, 5, 7, 9]\n",
    "\n",
    "#### # 3 이상, 7 미만 추출하기\n",
    "#### [3, 4, 5, 6]\n",
    "\n",
    "#### # 제곱해서 50미만 추출하기\n",
    "#### [1, 2, 3, 4, 5, 6, 7]"
   ]
  },
  {
   "cell_type": "code",
   "execution_count": 27,
   "metadata": {},
   "outputs": [
    {
     "name": "stdout",
     "output_type": "stream",
     "text": [
      "# 홀수만 추출하기\n",
      "[1, 3, 5, 7, 9]\n",
      "\n",
      "# 3 이상, 7 미만 추출하기\n",
      "[3, 4, 5, 6]\n",
      "\n",
      "# 제곱해서 50 미만 추출하기\n",
      "[1, 2, 3, 4, 5, 6, 7]\n"
     ]
    }
   ],
   "source": [
    "numbers = list(range(1, 10+1))\n",
    "\n",
    "print(\"# 홀수만 추출하기\")\n",
    "print(list(filter(lambda x: x%2 != 0 , numbers)))\n",
    "print()\n",
    "\n",
    "print(\"# 3 이상, 7 미만 추출하기\")\n",
    "print(list(filter(lambda x: 3<=x and x<7 , numbers)))\n",
    "print()\n",
    "\n",
    "print(\"# 제곱해서 50 미만 추출하기\")\n",
    "print(list(filter(lambda x: x*x < 50 , numbers)))"
   ]
  }
 ],
 "metadata": {
  "kernelspec": {
   "display_name": "Python 3",
   "language": "python",
   "name": "python3"
  },
  "language_info": {
   "codemirror_mode": {
    "name": "ipython",
    "version": 3
   },
   "file_extension": ".py",
   "mimetype": "text/x-python",
   "name": "python",
   "nbconvert_exporter": "python",
   "pygments_lexer": "ipython3",
   "version": "3.7.6"
  }
 },
 "nbformat": 4,
 "nbformat_minor": 4
}
